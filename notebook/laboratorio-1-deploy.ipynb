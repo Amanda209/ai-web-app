{
 "cells": [
  {
   "cell_type": "markdown",
   "metadata": {},
   "source": [
    "# Como disponibilizar seu modelo na internet\n",
    "\n",
    "Nesse passo, iremos utilizar o Django, um _framework_ web robusto escrito em Python, para fazer o _deploy_ do seu modelo. Dessa forma, qualquer um poderá acessar sua aplicação e testá-la."
   ]
  },
  {
   "cell_type": "markdown",
   "metadata": {},
   "source": [
    "## Um pouco sobre Django..."
   ]
  },
  {
   "cell_type": "markdown",
   "metadata": {},
   "source": [
    "Django é um framework de alto nível, escrito em Python que encoraja o desenvolvimento limpo de aplicações web.\n",
    "\n",
    "Desenvolvido por experientes desenvolvedores, Django toma conta da parte pesada do desenvolvimento web, como: \n",
    "- Tratamento de requisições\n",
    "- Mapeamento objeto-relacional\n",
    "- Preparação de respostas HTTP\n",
    "- Autenticação\n",
    "- Autorização; e muito mais\n",
    "\n",
    "Dessa forma, você gasta seu esforço com aquilo que realmente interessa: suas **regras de negócio**!\n",
    "\n",
    "Foi desenvolvido com uma preocupação extra em segurança, evitando os mais comuns ataques, como _Cross Site Scripting_ (XSS), _Cross Site Request Forgery_ (CSRF), _SQL injection_, entre outros.\n",
    "\n",
    "É bastante **escalável**: Django foi desenvolvido para tirar vantagem da maior quantidade de hardware possível (desde que você queira). Django usa uma arquitetura “zero-compartilhamento”, o que significa que você pode adicionar mais recursos em qualquer nível: servidores de banco de dados, cache e/ou servidores de aplicação."
   ]
  },
  {
   "cell_type": "markdown",
   "metadata": {},
   "source": [
    "### Sua arquitetura\n",
    "\n",
    "Diferente da arquitetura de outros _frameworks_ web que seguem o padrão MVC (_Model-View-Controller_), o Django possui uma arquitetura sutilmente diferente: seus desenvolvedores o denominaram de **MTV** ou _**Model-Template-View**_.\n",
    "\n",
    "As responsabilidades de cada camada são:\n",
    "- _**Model**_: Faz o mapeamento dos objetos da sua aplicação com tabelas relacionais e gerencia as transações que acessam o banco de dados.\n",
    "- _**Template**_: Contém a camada de apresentação da sua aplicação (arquivos HTML, arquivos de estilo CSS, possíveis bibliotecas Javascript e etc). É a **cara** do seu projeto.\n",
    "- _**View**_: Essa camada tem a responsabilidade de processar as requisições vindas dos usuários, formular uma resposta e enviá-la. É aqui que residem nossas **lógicas de negócio**."
   ]
  },
  {
   "cell_type": "markdown",
   "metadata": {},
   "source": [
    "### Fluxo de uma requisição\n",
    "\n",
    "O fluxo de uma Requisição HTTP dentro do Django pode ser demonstrado da seguinte forma:"
   ]
  },
  {
   "cell_type": "markdown",
   "metadata": {},
   "source": [
    "![Fluxo de uma requisição](https://raw.githubusercontent.com/viniciusramos91/ai-web-app/master/notebook/django-architecture.png)\n",
    "_Fonte: [Python Academy](https://pythonacademy.com.br/blog/desenvolvimento-web-com-python-e-django-introducao)_"
   ]
  },
  {
   "cell_type": "markdown",
   "metadata": {},
   "source": [
    "Agora que você já sabe (quase) tudo sobre o Django, vamos para a **prática**"
   ]
  },
  {
   "cell_type": "markdown",
   "metadata": {},
   "source": [
    "### Primeiros passos\n",
    "\n",
    "Se você estiver utilizando a Google Cloud Platform, abra uma nova janela de terminal (_Open in browser window_):\n",
    "\n",
    "![Google Cloud Platform](https://raw.githubusercontent.com/viniciusramos91/ai-web-app/master/notebook/gcp.png)\n",
    "\n",
    "Agora, clone o projeto Django:"
   ]
  },
  {
   "cell_type": "code",
   "execution_count": null,
   "metadata": {},
   "outputs": [],
   "source": [
    "# Vá para pasta home\n",
    "%cd ~\n",
    "\n",
    "# Clone o projeto\n",
    "!git clone https://github.com/viniciusramos91/ai-web-app.git\n",
    "    \n",
    "# Vá para dentro do projeto\n",
    "%cd ./ai-web-app"
   ]
  },
  {
   "cell_type": "markdown",
   "metadata": {},
   "source": [
    "Agora, instale as dependências do projeto (no caso apenas o Django), executando a célula abaixo:"
   ]
  },
  {
   "cell_type": "code",
   "execution_count": null,
   "metadata": {},
   "outputs": [],
   "source": [
    "!pip install -r requirements.txt --user"
   ]
  },
  {
   "cell_type": "markdown",
   "metadata": {},
   "source": [
    "A estrutura do projeto é:\n",
    "\n",
    "```\n",
    "requirements.txt\n",
    "manage.py\n",
    "webapp/\n",
    "    > settings.py\n",
    "    > urls.py\n",
    "    > wsgi.py\n",
    "```"
   ]
  },
  {
   "cell_type": "markdown",
   "metadata": {},
   "source": [
    "Explicando cada arquivo:\n",
    "\n",
    "- `requirements.txt`: Arquivo de dependências de projetos Python.\n",
    "- `manage.py`: Arquivo gerado automaticamente pelo Django que expõe comandos importantes para manutenção da nossa aplicação.\n",
    "- `webapp/settings.py`: Arquivo muito importante com as configurações do nosso projeto, como configurações do banco de dados, aplicativos instalados, configuração de arquivos estáticos e muito mais.\n",
    "- `webapp/urls.py`: Nossa URLConf - aqui vamos dizer ao Django quem responde a qual URL.\n",
    "- `webapp/wsgi.py``: Aqui configuramos a interface entre o servidor de aplicação e nossa aplicação Django.\n",
    "\n",
    "Com a estrutura acima criada, é necessário fazer a carga inicial do banco de dados do Django. \n",
    "\n",
    "Para isso, executaremos o comando `migrate` do Django conforme a célula abaixo (deverá ser criado o banco de dados `db.sqlite3` na raíz do projeto)."
   ]
  },
  {
   "cell_type": "code",
   "execution_count": null,
   "metadata": {},
   "outputs": [],
   "source": [
    "!python manage.py migrate"
   ]
  },
  {
   "cell_type": "markdown",
   "metadata": {},
   "source": [
    "Agora, execute o comando abaixo, abra seu browser e acesse sua instância na porta 8000. \n",
    "\n",
    "Para **parar** sua execução, clique no botão de _Stop_ (barra de ferramentas do Jupyter - ao lado do _Run_)."
   ]
  },
  {
   "cell_type": "code",
   "execution_count": null,
   "metadata": {},
   "outputs": [],
   "source": [
    "!python manage.py runserver 0.0.0.0:8000"
   ]
  },
  {
   "cell_type": "markdown",
   "metadata": {},
   "source": [
    "A tela inicial do projeto deverá ser mostrada:\n",
    "\n",
    "![Django default](https://raw.githubusercontent.com/viniciusramos91/ai-web-app/master/notebook/index.png)\n",
    "\n",
    "E ao fazer o upload de uma imagem, a seguinte tela será exibida:\n",
    "\n",
    "![Resultado](https://raw.githubusercontent.com/viniciusramos91/ai-web-app/master/notebook/result.png)\n",
    "\n",
    "**Obs**: Ainda não estárá funcionando pois seu modelo não foi configurado."
   ]
  },
  {
   "cell_type": "markdown",
   "metadata": {},
   "source": [
    "### Entendendo um pouco do projeto Django\n",
    "\n",
    "Com o objetivo de criar uma página gerenciada pelo Django, é necessário fazermos, basicamente, três passos:\n",
    "- Criar a página html que será mostrada ao usuário.\n",
    "- Escrever a lógica no arquivo `views.py` (ainda não criado).\n",
    "- Adicionar a rota no arquivo `urls.py` ."
   ]
  },
  {
   "cell_type": "markdown",
   "metadata": {},
   "source": [
    "### Arquivo `index.html`\n",
    "\n",
    "O arquivo `webapp/templates/webapp/index.html` contém o código HTML da nossa página inicial. \n",
    "\n",
    "Ela é responsável por fazer o _upload_ de uma foto ao Django.\n",
    "\n",
    "Sem muito mistério aqui..."
   ]
  },
  {
   "cell_type": "markdown",
   "metadata": {},
   "source": [
    "### Arquivo `views.py`\n",
    "\n",
    "No Django, o código responsável por processar a requisição do usuário e retornar uma resposta reside em uma `View`.\n",
    "\n",
    "No nosso caso, nossa `View`:\n",
    "- Recebe uma imagem\n",
    "- Trata a imagem\n",
    "- Carrega nosso modelo\n",
    "- Faz o `predict` utilizando a imagem tratada\n",
    "- Retorna a classe daquela imagem\n",
    "\n",
    "Para que seu modelo seja executado, altere o arquivo `webapp/views.py`, onde se encontra o seguinte trecho de código:\n",
    "\n",
    "```python\n",
    "learn = load_learner('/home/jupyter/playground', fname='modelo.pkl')\n",
    "```\n",
    "\n",
    "_(Aponte para o arquivo do seu modelo)_\n",
    "\n",
    "O código da nossa `View` é o seguinte (siga os comentários):"
   ]
  },
  {
   "cell_type": "markdown",
   "metadata": {},
   "source": [
    "```python\n",
    "from django.shortcuts import render\n",
    "from fastai import *\n",
    "from fastai.vision import *\n",
    "from django.http import HttpRequest, HttpResponse\n",
    "from io import BytesIO\n",
    "\n",
    "# View da página principal\n",
    "# =======================================================================\n",
    "\n",
    "def index(request: HttpRequest) -> HttpResponse:\n",
    "\n",
    "    # Verifica o método HTTP\n",
    "    if request.method == 'GET':\n",
    "        # Se GET, renderiza a página HTML\n",
    "        return render(request, 'webapp/index.html', status=200)\n",
    "    \n",
    "    # Se POST\n",
    "    elif request.method == 'POST':\n",
    "        # Pega a image da requisição\n",
    "        image = request.FILES['image']\n",
    "\n",
    "        # Lê os bytes da imagem\n",
    "        data = BytesIO(image.read())\n",
    "\n",
    "        # Chama o PIL para converter a imagem em preto e branco\n",
    "        img = PIL.Image.open(data).convert('LA')\n",
    "\n",
    "        # Salva a imagem em disco\n",
    "        img.save('imagem.png')\n",
    "\n",
    "        # Abre a imagem com o fast.ai\n",
    "        img = open_image('imagem.png')\n",
    "\n",
    "        # Carrega o conjunto padrão de transformações do fast.ai para aplicar na imagem\n",
    "        tfms = get_transforms()\n",
    "\n",
    "        # Aplica as transofmrações na imagem\n",
    "        for transformation in tfms:\n",
    "            fastai_img = img.apply_tfms(transformation, size=224)\n",
    "\n",
    "        # Carrega o modelo\n",
    "        learn = load_learner('/home/jupyter/playground', fname='modelo.pkl')\n",
    "\n",
    "        # Executa o modelo sobre a imagem\n",
    "        pred_class, pred_idx, outputs = learn.predict(fastai_img)\n",
    "\n",
    "        return HttpResponse(pred_class, status=200)\n",
    "\n",
    "    else:\n",
    "        return HttpResponse('Método não permitido', status=405)\n",
    "```     "
   ]
  },
  {
   "cell_type": "markdown",
   "metadata": {},
   "source": [
    "### Arquivo `urls.py`\n",
    "\n",
    "Para que o Django chame nossa `View` é necessário que sua rota esteja configurada corretamente.\n",
    "\n",
    "Isso é feito no arquivo `webapp/urls.py`. Veja como é simples (siga os comentários):"
   ]
  },
  {
   "cell_type": "markdown",
   "metadata": {},
   "source": [
    "```python\n",
    "from django.contrib import admin\n",
    "from django.urls import path\n",
    "from webapp.views import index\n",
    "\n",
    "# Lista contendo todos os caminhos da sua aplicação\n",
    "urlpatterns = [\n",
    "    # Sim, o Django já vem com uma área de administrador por padrão!\n",
    "    # Acesse: https://docs.djangoproject.com/en/2.0/intro/tutorial02/#introducing-the-django-admin\n",
    "    path('admin/', admin.site.urls),\n",
    "    \n",
    "    # Rota que encaminha as requisições do caminho raíz para nossa view index()\n",
    "    path('', index)\n",
    "]\n",
    "```"
   ]
  }
 ],
 "metadata": {
  "kernelspec": {
   "display_name": "Python 3",
   "language": "python",
   "name": "python3"
  },
  "language_info": {
   "codemirror_mode": {
    "name": "ipython",
    "version": 3
   },
   "file_extension": ".py",
   "mimetype": "text/x-python",
   "name": "python",
   "nbconvert_exporter": "python",
   "pygments_lexer": "ipython3",
   "version": "3.7.1"
  }
 },
 "nbformat": 4,
 "nbformat_minor": 2
}
